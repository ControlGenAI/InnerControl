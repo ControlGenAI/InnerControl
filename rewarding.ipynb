{
 "cells": [
  {
   "cell_type": "code",
   "execution_count": 1,
   "metadata": {
    "vscode": {
     "languageId": "plaintext"
    }
   },
   "outputs": [
    {
     "name": "stderr",
     "output_type": "stream",
     "text": [
      "/home/jovyan/konovalova/envs/lora/lib/python3.10/site-packages/tqdm/auto.py:21: TqdmWarning: IProgress not found. Please update jupyter and ipywidgets. See https://ipywidgets.readthedocs.io/en/stable/user_install.html\n",
      "  from .autonotebook import tqdm as notebook_tqdm\n"
     ]
    },
    {
     "name": "stdout",
     "output_type": "stream",
     "text": [
      "load checkpoint from /home/jovyan/.cache/ImageReward/ImageReward.pt\n",
      "checkpoint loaded\n"
     ]
    }
   ],
   "source": [
    "import ImageReward as RM\n",
    "model = RM.load(\"ImageReward-v1.0\")\n",
    "\n",
    "# rewards = model.score(\"<prompt>\", [\"<img1_obj_or_path>\", \"<img2_obj_or_path>\", ...])\n",
    "\n"
   ]
  },
  {
   "cell_type": "code",
   "execution_count": 2,
   "metadata": {},
   "outputs": [],
   "source": [
    "from datasets import load_dataset\n",
    "\n",
    "ds = load_dataset(\"limingcv/MultiGen-20M_depth_eval\", cache_dir='/workspace/home/jovyan/shares/SR006.nfs2/konovalova')"
   ]
  },
  {
   "cell_type": "code",
   "execution_count": 3,
   "metadata": {},
   "outputs": [
    {
     "data": {
      "text/plain": [
       "Dataset({\n",
       "    features: ['image', 'control_depth', 'text'],\n",
       "    num_rows: 5000\n",
       "})"
      ]
     },
     "execution_count": 3,
     "metadata": {},
     "output_type": "execute_result"
    }
   ],
   "source": [
    "ds['validation']"
   ]
  },
  {
   "cell_type": "code",
   "execution_count": 17,
   "metadata": {},
   "outputs": [],
   "source": [
    "images_path = '/home/jovyan/konovalova/controlnet_redout/work_dirs/eval_dirs/MultiGen-20M_depth_eval/validation/weights_controlnet_7.5-20/images/'"
   ]
  },
  {
   "cell_type": "code",
   "execution_count": 18,
   "metadata": {},
   "outputs": [],
   "source": [
    "from PIL import Image\n",
    "scores = []\n",
    "\n",
    "for j in range(4):\n",
    "    for i in range(20):\n",
    "        text = ds['validation'][i]['text']\n",
    "        image = f'{images_path}/group_{j}/{i}.png'\n",
    "    \n",
    "        score = model.score(text, [image])\n",
    "        scores.append(score)"
   ]
  },
  {
   "cell_type": "code",
   "execution_count": 19,
   "metadata": {},
   "outputs": [
    {
     "data": {
      "text/plain": [
       "np.float64(0.3750062817125581)"
      ]
     },
     "execution_count": 19,
     "metadata": {},
     "output_type": "execute_result"
    }
   ],
   "source": [
    "import numpy as np\n",
    "\n",
    "np.mean(scores)"
   ]
  },
  {
   "cell_type": "code",
   "execution_count": 21,
   "metadata": {},
   "outputs": [],
   "source": [
    "path_reward = '/home/jovyan/konovalova/controlnet_redout/work_dirs/small_test/MultiGen-20M_depth_eval/validation/_home_jovyan_konovalova_controlnet_redout_MultiGen_small_tests_0_600_1e-5_reward_only_checkpoint-1000_controlnet_7.5-20/images/'"
   ]
  },
  {
   "cell_type": "code",
   "execution_count": 23,
   "metadata": {},
   "outputs": [
    {
     "data": {
      "text/plain": [
       "np.float64(0.28355974587611854)"
      ]
     },
     "execution_count": 23,
     "metadata": {},
     "output_type": "execute_result"
    }
   ],
   "source": [
    "from PIL import Image\n",
    "scores = []\n",
    "\n",
    "for j in range(4):\n",
    "    for i in range(20):\n",
    "        text = ds['validation'][i]['text']\n",
    "        image = f'{path_reward}/group_{j}/{i}.png'\n",
    "    \n",
    "        score = model.score(text, [image])\n",
    "        scores.append(score)\n",
    "np.mean(scores)"
   ]
  },
  {
   "cell_type": "code",
   "execution_count": 28,
   "metadata": {},
   "outputs": [],
   "source": [
    "our_best = '/home/jovyan/konovalova/controlnet_redout/work_dirs/small_test/MultiGen-20M_depth_eval/validation/_home_jovyan_konovalova_controlnet_redout_MultiGen_small_tests_0_600_1e-5_readout_init_elem_both_loss_rerun_checkpoint-1000_controlnet_7.5-20/images'"
   ]
  },
  {
   "cell_type": "code",
   "execution_count": 29,
   "metadata": {},
   "outputs": [
    {
     "data": {
      "text/plain": [
       "np.float64(0.37531699035316707)"
      ]
     },
     "execution_count": 29,
     "metadata": {},
     "output_type": "execute_result"
    }
   ],
   "source": [
    "from PIL import Image\n",
    "scores = []\n",
    "\n",
    "for j in range(4):\n",
    "    for i in range(20):\n",
    "        text = ds['validation'][i]['text']\n",
    "        image = f'{our_best}/group_{j}/{i}.png'\n",
    "    \n",
    "        score = model.score(text, [image])\n",
    "        scores.append(score)\n",
    "np.mean(scores)"
   ]
  },
  {
   "cell_type": "code",
   "execution_count": 30,
   "metadata": {},
   "outputs": [],
   "source": [
    "edges_path = '/home/jovyan/konovalova/controlnet_redout/work_dirs/small_test/MultiGen-20M_depth_eval/validation/MultiGen_small_tests_0_600_1e-5_readout_edges_control_checkpoint-1000_controlnet_7.5-20/images'"
   ]
  },
  {
   "cell_type": "code",
   "execution_count": 31,
   "metadata": {},
   "outputs": [
    {
     "data": {
      "text/plain": [
       "np.float64(0.33218878833577037)"
      ]
     },
     "execution_count": 31,
     "metadata": {},
     "output_type": "execute_result"
    }
   ],
   "source": [
    "from PIL import Image\n",
    "scores = []\n",
    "\n",
    "for j in range(4):\n",
    "    for i in range(20):\n",
    "        text = ds['validation'][i]['text']\n",
    "        image = f'{edges_path}/group_{j}/{i}.png'\n",
    "    \n",
    "        score = model.score(text, [image])\n",
    "        scores.append(score)\n",
    "np.mean(scores)"
   ]
  },
  {
   "cell_type": "code",
   "execution_count": 57,
   "metadata": {},
   "outputs": [],
   "source": [
    "edges_depth = '/home/jovyan/konovalova/controlnet_redout/work_dirs/small_test/MultiGen-20M_depth_eval/validation/MultiGen_small_tests_0_600_1e-5_readout_edges_depth_control_checkpoint-1000_controlnet_7.5-20/images/'"
   ]
  },
  {
   "cell_type": "code",
   "execution_count": 59,
   "metadata": {},
   "outputs": [
    {
     "data": {
      "text/plain": [
       "np.float64(0.27453484619036317)"
      ]
     },
     "execution_count": 59,
     "metadata": {},
     "output_type": "execute_result"
    }
   ],
   "source": [
    "from PIL import Image\n",
    "scores = []\n",
    "\n",
    "for j in range(4):\n",
    "    for i in range(20):\n",
    "        text = ds['validation'][i]['text']\n",
    "        image = f'{edges_depth}/group_{j}/{i}.png'\n",
    "    \n",
    "        score = model.score(text, [image])\n",
    "        scores.append(score)\n",
    "        #print(score)\n",
    "np.mean(scores)"
   ]
  },
  {
   "cell_type": "code",
   "execution_count": null,
   "metadata": {},
   "outputs": [],
   "source": []
  },
  {
   "cell_type": "code",
   "execution_count": 60,
   "metadata": {},
   "outputs": [],
   "source": [
    "reward_path = 'work_dirs/eval_dirs/MultiGen-20M_depth_eval/validation/_home_jovyan_konovalova_controlnet_redout_MultiGen_correct_reward_controlnet_sd15_depth_res512_bs256_lr1e-5_warmup100_scale-1.0_iter10k_fp16_train0-1k_reward0-200_mse-loss_reward_only_checkpoint-10000_controlnet_7.5-20/images'"
   ]
  },
  {
   "cell_type": "code",
   "execution_count": 63,
   "metadata": {},
   "outputs": [
    {
     "name": "stderr",
     "output_type": "stream",
     "text": [
      "100%|██████████| 5000/5000 [04:20<00:00, 19.16it/s]\n",
      "100%|██████████| 5000/5000 [04:33<00:00, 18.26it/s]\n",
      "100%|██████████| 5000/5000 [04:31<00:00, 18.45it/s]\n",
      "100%|██████████| 5000/5000 [04:28<00:00, 18.65it/s]\n"
     ]
    },
    {
     "data": {
      "text/plain": [
       "np.float64(0.30475179916297795)"
      ]
     },
     "execution_count": 63,
     "metadata": {},
     "output_type": "execute_result"
    }
   ],
   "source": [
    "from PIL import Image\n",
    "from tqdm import tqdm\n",
    "import torch\n",
    "scores = []\n",
    "\n",
    "for j in range(4):\n",
    "    for i in tqdm(range(5000)):\n",
    "        text = ds['validation'][i]['text']\n",
    "        image = f'{reward_path}/group_{j}/{i}.png'\n",
    "        #print(reward_path)\n",
    "    \n",
    "        score = model.score(text, [image])\n",
    "        scores.append(score)\n",
    "        torch.save(scores, 'reward_scores.pt')\n",
    "        \n",
    "np.mean(scores)"
   ]
  },
  {
   "cell_type": "code",
   "execution_count": 64,
   "metadata": {},
   "outputs": [],
   "source": [
    "our_best_path = 'work_dirs/eval_dirs_1/MultiGen-20M_depth_eval/validation/_home_jovyan_konovalova_controlnet_redout_MultiGen_reward_controlnet_sd15_depth_res512_bs256_lr1e-5_warmup100_scale-1.0_iter10k_fp16_train0-1k_reward0-200_mse-loss_new_scale_checkpoint-10000_controlnet_7.5-20/images'"
   ]
  },
  {
   "cell_type": "code",
   "execution_count": 65,
   "metadata": {},
   "outputs": [
    {
     "name": "stderr",
     "output_type": "stream",
     "text": [
      "100%|██████████| 5000/5000 [04:27<00:00, 18.70it/s]\n",
      "100%|██████████| 5000/5000 [04:31<00:00, 18.41it/s]\n",
      "100%|██████████| 5000/5000 [04:27<00:00, 18.67it/s]\n",
      "100%|██████████| 5000/5000 [04:29<00:00, 18.53it/s]\n"
     ]
    },
    {
     "data": {
      "text/plain": [
       "np.float64(0.23934636641499082)"
      ]
     },
     "execution_count": 65,
     "metadata": {},
     "output_type": "execute_result"
    }
   ],
   "source": [
    "from PIL import Image\n",
    "from tqdm import tqdm\n",
    "import torch\n",
    "scores = []\n",
    "\n",
    "for j in range(4):\n",
    "    for i in tqdm(range(5000)):\n",
    "        text = ds['validation'][i]['text']\n",
    "        image = f'{our_best_path}/group_{j}/{i}.png'\n",
    "    \n",
    "        score = model.score(text, [image])\n",
    "        scores.append(score)\n",
    "        torch.save(scores, 'our_best_scores.pt')\n",
    "        # print(score)\n",
    "        # assert False\n",
    "np.mean(scores)"
   ]
  },
  {
   "cell_type": "code",
   "execution_count": 47,
   "metadata": {},
   "outputs": [
    {
     "data": {
      "text/plain": [
       "array([0., 0., 0., ..., 0., 0., 0.], shape=(20000,))"
      ]
     },
     "execution_count": 47,
     "metadata": {},
     "output_type": "execute_result"
    }
   ],
   "source": [
    "np.array(torch.load('reward_scores.pt')) - np.array(torch.load('our_best_scores.pt'))"
   ]
  },
  {
   "cell_type": "code",
   "execution_count": 54,
   "metadata": {},
   "outputs": [
    {
     "data": {
      "text/plain": [
       "array([0.24658598])"
      ]
     },
     "execution_count": 54,
     "metadata": {},
     "output_type": "execute_result"
    }
   ],
   "source": [
    "np.array(torch.load('reward_scores.pt'))"
   ]
  },
  {
   "cell_type": "code",
   "execution_count": 56,
   "metadata": {},
   "outputs": [
    {
     "data": {
      "text/plain": [
       "array([ 0.24658598,  1.0508095 ,  0.6631844 , ..., -2.2830689 ,\n",
       "        0.10221501, -0.302394  ], shape=(20000,))"
      ]
     },
     "execution_count": 56,
     "metadata": {},
     "output_type": "execute_result"
    }
   ],
   "source": [
    "np.array(torch.load('our_best_scores.pt'))"
   ]
  },
  {
   "cell_type": "code",
   "execution_count": 4,
   "metadata": {},
   "outputs": [],
   "source": [
    "all_path = ['/home/jovyan/konovalova/controlnet_redout/work_dirs/small_test/MultiGen-20M_depth_eval/validation/_home_jovyan_konovalova_controlnet_redout_MultiGen_small_tests_0_600_1e-5_reward_only_checkpoint-1000_controlnet_7.5-20/images',\n",
    "            '/home/jovyan/konovalova/controlnet_redout/work_dirs/small_test/MultiGen-20M_depth_eval/validation/_home_jovyan_konovalova_controlnet_redout_MultiGen_small_tests_0_600_1e-5_new_loss_checkpoint-1000_controlnet_7.5-20/images',\n",
    "            '/home/jovyan/konovalova/controlnet_redout/work_dirs/small_test/MultiGen-20M_depth_eval/validation/_home_jovyan_konovalova_controlnet_redout_MultiGen_small_tests_0_600_1e-5_new_loss_2_checkpoint-1000_controlnet_7.5-20/images',\n",
    "            '/home/jovyan/konovalova/controlnet_redout/work_dirs/small_test/MultiGen-20M_depth_eval/validation/_home_jovyan_konovalova_controlnet_redout_MultiGen_small_tests_0_600_1e-5_new_loss_1_checkpoint-1000_controlnet_7.5-20/images',\n",
    "            '/home/jovyan/konovalova/controlnet_redout/work_dirs/small_test/MultiGen-20M_depth_eval/validation/MultiGen_small_tests_0_600_1e-5_readout_edges_depth_control_checkpoint-1000_controlnet_7.5-20/images',\n",
    "            '/home/jovyan/konovalova/controlnet_redout/work_dirs/small_test/MultiGen-20M_depth_eval/validation/MultiGen_small_tests_0_600_1e-5_readout_edges_control_checkpoint-1000_controlnet_7.5-20/images',\n",
    "            '/home/jovyan/konovalova/controlnet_redout/work_dirs/small_test/MultiGen-20M_depth_eval/validation/_home_jovyan_konovalova_controlnet_redout_MultiGen_small_tests_0_600_1e-5_readout_zero_tensor_null_0.4_checkpoint-1000_controlnet_7.5-20/images',\n",
    "            '/home/jovyan/konovalova/controlnet_redout/work_dirs/small_test/MultiGen-20M_depth_eval/validation/_home_jovyan_konovalova_controlnet_redout_MultiGen_small_tests_0_600_1e-5_readout_zero_tensor_null_only_readout_augment_checkpoint-1000_controlnet_7.5-20/images',\n",
    "            '/home/jovyan/konovalova/controlnet_redout/work_dirs/small_test/MultiGen-20M_depth_eval/validation/MultiGen_small_tests_0_600_1e-5_readout_init_gauss_gauss_augmentation_checkpoint-1000_controlnet_7.5-20/images',       \n",
    "            '/home/jovyan/konovalova/controlnet_redout/work_dirs/small_test/MultiGen-20M_depth_eval/validation/MultiGen_small_tests_0_600_1e-5_readout_init_gauss_noise_augmentation_checkpoint-1000_controlnet_7.5-20/images',\n",
    "            '/home/jovyan/konovalova/controlnet_redout/work_dirs/small_test/MultiGen-20M_depth_eval/validation/MultiGen_small_tests_0_600_1e-5_readout_init_gauss_blur_augmentation_checkpoint-1000_controlnet_7.5-20/images',\n",
    "            '/home/jovyan/konovalova/controlnet_redout/work_dirs/small_test/MultiGen-20M_depth_eval/validation/MultiGen_small_tests_0_600_1e-5_readout_lpips_depth_checkpoint-1000_controlnet_7.5-20/images',\n",
    "            '/home/jovyan/konovalova/controlnet_redout/work_dirs/small_test/MultiGen-20M_depth_eval/validation/MultiGen_small_tests_0_600_1e-5_readout_cosine_depth_checkpoint-1000_controlnet_7.5-20/images',\n",
    "            '/home/jovyan/konovalova/controlnet_redout/work_dirs/small_test/MultiGen-20M_depth_eval/validation/MultiGen_small_tests_0_600_1e-5_readout_unet_consistency_checkpoint-1000_controlnet_7.5-20/images',\n",
    "            '/home/jovyan/konovalova/controlnet_redout/work_dirs/smal_test/MultiGen-20M_depth_eval/validation/weights_controlnet__7.5-20/images',\n",
    "            '/home/jovyan/konovalova/controlnet_redout/work_dirs/small_test/MultiGen-20M_depth_eval/validation/MultiGen_small_tests_0_600_1e-5_checkpoint-1000_controlnet_7.5-20/images'\n",
    "           ]\n",
    "\n",
    "            "
   ]
  },
  {
   "cell_type": "code",
   "execution_count": 4,
   "metadata": {},
   "outputs": [],
   "source": [
    "all_path = ['/home/jovyan/konovalova/controlnet_redout/work_dirs/small_test/MultiGen-20M_depth_eval/validation/MultiGen_small_tests_0_600_1e-5_readout_permuted_consistency_0.4_checkpoint-1000_controlnet_7.5-20/images',\n",
    "            '/home/jovyan/konovalova/controlnet_redout/work_dirs/small_test/MultiGen-20M_depth_eval/validation/MultiGen_small_tests_0_600_1e-5_readout_permuted_0.4_checkpoint-1000_controlnet_7.5-20/images'\n",
    "           ]\n",
    "            "
   ]
  },
  {
   "cell_type": "code",
   "execution_count": 6,
   "metadata": {},
   "outputs": [
    {
     "name": "stdout",
     "output_type": "stream",
     "text": [
      "/home/jovyan/konovalova/controlnet_redout/work_dirs/small_test/MultiGen-20M_depth_eval/validation/_home_jovyan_konovalova_controlnet_redout_MultiGen_small_tests_0_600_1e-5_reward_only_checkpoint-1000_controlnet_7.5-20/images\n",
      "0.2709877798426896\n",
      "/home/jovyan/konovalova/controlnet_redout/work_dirs/small_test/MultiGen-20M_depth_eval/validation/_home_jovyan_konovalova_controlnet_redout_MultiGen_small_tests_0_600_1e-5_new_loss_checkpoint-1000_controlnet_7.5-20/images\n",
      "0.3131496529560536\n",
      "/home/jovyan/konovalova/controlnet_redout/work_dirs/small_test/MultiGen-20M_depth_eval/validation/_home_jovyan_konovalova_controlnet_redout_MultiGen_small_tests_0_600_1e-5_new_loss_2_checkpoint-1000_controlnet_7.5-20/images\n",
      "0.1591417352715507\n",
      "/home/jovyan/konovalova/controlnet_redout/work_dirs/small_test/MultiGen-20M_depth_eval/validation/_home_jovyan_konovalova_controlnet_redout_MultiGen_small_tests_0_600_1e-5_new_loss_1_checkpoint-1000_controlnet_7.5-20/images\n",
      "0.3062701125140302\n",
      "/home/jovyan/konovalova/controlnet_redout/work_dirs/small_test/MultiGen-20M_depth_eval/validation/MultiGen_small_tests_0_600_1e-5_readout_edges_depth_control_checkpoint-1000_controlnet_7.5-20/images\n",
      "0.3339299975545146\n",
      "/home/jovyan/konovalova/controlnet_redout/work_dirs/small_test/MultiGen-20M_depth_eval/validation/MultiGen_small_tests_0_600_1e-5_readout_edges_control_checkpoint-1000_controlnet_7.5-20/images\n",
      "0.37220307474490255\n",
      "/home/jovyan/konovalova/controlnet_redout/work_dirs/small_test/MultiGen-20M_depth_eval/validation/_home_jovyan_konovalova_controlnet_redout_MultiGen_small_tests_0_600_1e-5_readout_zero_tensor_null_0.4_checkpoint-1000_controlnet_7.5-20/images\n",
      "0.31543060883239377\n",
      "/home/jovyan/konovalova/controlnet_redout/work_dirs/small_test/MultiGen-20M_depth_eval/validation/_home_jovyan_konovalova_controlnet_redout_MultiGen_small_tests_0_600_1e-5_readout_zero_tensor_null_only_readout_augment_checkpoint-1000_controlnet_7.5-20/images\n",
      "0.30973397706766265\n",
      "/home/jovyan/konovalova/controlnet_redout/work_dirs/small_test/MultiGen-20M_depth_eval/validation/MultiGen_small_tests_0_600_1e-5_readout_init_gauss_gauss_augmentation_checkpoint-1000_controlnet_7.5-20/images\n",
      "0.34240314329392274\n",
      "/home/jovyan/konovalova/controlnet_redout/work_dirs/small_test/MultiGen-20M_depth_eval/validation/MultiGen_small_tests_0_600_1e-5_readout_init_gauss_noise_augmentation_checkpoint-1000_controlnet_7.5-20/images\n",
      "0.3031576876435429\n",
      "/home/jovyan/konovalova/controlnet_redout/work_dirs/small_test/MultiGen-20M_depth_eval/validation/MultiGen_small_tests_0_600_1e-5_readout_init_gauss_blur_augmentation_checkpoint-1000_controlnet_7.5-20/images\n",
      "0.34719518352416345\n",
      "/home/jovyan/konovalova/controlnet_redout/work_dirs/small_test/MultiGen-20M_depth_eval/validation/MultiGen_small_tests_0_600_1e-5_readout_lpips_depth_checkpoint-1000_controlnet_7.5-20/images\n",
      "-0.10038834838196635\n",
      "/home/jovyan/konovalova/controlnet_redout/work_dirs/small_test/MultiGen-20M_depth_eval/validation/MultiGen_small_tests_0_600_1e-5_readout_cosine_depth_checkpoint-1000_controlnet_7.5-20/images\n",
      "0.3202749257651158\n",
      "/home/jovyan/konovalova/controlnet_redout/work_dirs/small_test/MultiGen-20M_depth_eval/validation/MultiGen_small_tests_0_600_1e-5_readout_unet_consistency_checkpoint-1000_controlnet_7.5-20/images\n",
      "0.4401649747835472\n",
      "/home/jovyan/konovalova/controlnet_redout/work_dirs/smal_test/MultiGen-20M_depth_eval/validation/weights_controlnet__7.5-20/images\n",
      "0.38027296343352646\n",
      "/home/jovyan/konovalova/controlnet_redout/work_dirs/small_test/MultiGen-20M_depth_eval/validation/MultiGen_small_tests_0_600_1e-5_checkpoint-1000_controlnet_7.5-20/images\n",
      "0.1623938216920942\n"
     ]
    }
   ],
   "source": [
    "from PIL import Image\n",
    "import numpy as np\n",
    "\n",
    "for path in all_path:\n",
    "    \n",
    "    scores = []\n",
    "    for j in range(4):\n",
    "        for i in range(50):\n",
    "            text = ds['validation'][i]['text']\n",
    "            image = f'{path}/group_{j}/{i}.png'\n",
    "        \n",
    "            score = model.score(text, [image])\n",
    "            scores.append(score)\n",
    "            #print(score)\n",
    "    print(path)\n",
    "    print(np.mean(scores))"
   ]
  },
  {
   "cell_type": "code",
   "execution_count": 5,
   "metadata": {},
   "outputs": [
    {
     "name": "stdout",
     "output_type": "stream",
     "text": [
      "/home/jovyan/konovalova/controlnet_redout/work_dirs/small_test/MultiGen-20M_depth_eval/validation/MultiGen_small_tests_0_600_1e-5_readout_permuted_consistency_0.4_checkpoint-1000_controlnet_7.5-20/images\n",
      "0.3142302376125008\n",
      "/home/jovyan/konovalova/controlnet_redout/work_dirs/small_test/MultiGen-20M_depth_eval/validation/MultiGen_small_tests_0_600_1e-5_readout_permuted_0.4_checkpoint-1000_controlnet_7.5-20/images\n",
      "0.2853317161631276\n"
     ]
    }
   ],
   "source": [
    "from PIL import Image\n",
    "import numpy as np\n",
    "\n",
    "for path in all_path:\n",
    "    \n",
    "    scores = []\n",
    "    for j in range(4):\n",
    "        for i in range(50):\n",
    "            text = ds['validation'][i]['text']\n",
    "            image = f'{path}/group_{j}/{i}.png'\n",
    "        \n",
    "            score = model.score(text, [image])\n",
    "            scores.append(score)\n",
    "            #print(score)\n",
    "    print(path)\n",
    "    print(np.mean(scores))"
   ]
  },
  {
   "cell_type": "code",
   "execution_count": null,
   "metadata": {},
   "outputs": [],
   "source": []
  }
 ],
 "metadata": {
  "kernelspec": {
   "display_name": "Python [conda env:konovalova-lora]",
   "language": "python",
   "name": "conda-env-konovalova-lora-py"
  },
  "language_info": {
   "codemirror_mode": {
    "name": "ipython",
    "version": 3
   },
   "file_extension": ".py",
   "mimetype": "text/x-python",
   "name": "python",
   "nbconvert_exporter": "python",
   "pygments_lexer": "ipython3",
   "version": "3.10.16"
  }
 },
 "nbformat": 4,
 "nbformat_minor": 4
}
